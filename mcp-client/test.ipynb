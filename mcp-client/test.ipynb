{
 "cells": [
  {
   "cell_type": "code",
   "execution_count": null,
   "id": "c8b637fd",
   "metadata": {},
   "outputs": [],
   "source": [
    "import requests\n",
    "\n",
    "response = requests.get(\"https://github.com/login/oauth/authorize\", params={\n",
    "    \"client_id\": \"MY_CLIENT_ID\",\n",
    "    \"redirect_uri\": \"http://localhost:3000/callback\",\n",
    "    \"scope\": \"user\",\n",
    "    \"state\": \"MY_STATE\",\n",
    "})\n",
    "print(response.status_code)"
   ]
  },
  {
   "cell_type": "code",
   "execution_count": null,
   "id": "77279996",
   "metadata": {},
   "outputs": [],
   "source": [
    "# Ver si se puede usar esto https://github.com/modelcontextprotocol/python-sdk/blob/main/src/mcp/client/auth.py"
   ]
  },
  {
   "cell_type": "code",
   "execution_count": null,
   "id": "ed469a8d",
   "metadata": {},
   "outputs": [],
   "source": [
    "# Cell 1: Setup\n",
    "import requests\n",
    "import webbrowser\n",
    "import http.server\n",
    "import socketserver\n",
    "import urllib.parse\n",
    "\n",
    "CLIENT_ID = \"\"\n",
    "CLIENT_SECRET = \"\"\n",
    "REDIRECT_URI = \"http://localhost:8000/callback\"\n",
    "AUTH_URL = \"https://github.com/login/oauth/authorize\"\n",
    "TOKEN_URL = \"https://github.com/login/oauth/access_token\"\n",
    "USER_API_URL = \"https://api.github.com/user\"\n",
    "\n",
    "received_code = None\n"
   ]
  },
  {
   "cell_type": "code",
   "execution_count": null,
   "id": "26b221ab",
   "metadata": {},
   "outputs": [],
   "source": [
    "# Cell 2: Start OAuth flow\n",
    "\n",
    "# Construct authorization URL\n",
    "params = {\n",
    "    \"client_id\": CLIENT_ID,\n",
    "    \"redirect_uri\": REDIRECT_URI,\n",
    "    \"scope\":\"repo\" # \"read:user\",\n",
    "}\n",
    "auth_request_url = f\"{AUTH_URL}?{urllib.parse.urlencode(params)}\"\n",
    "\n",
    "# Open GitHub login page in browser\n",
    "print(\"Opening browser for GitHub OAuth login...\")\n",
    "webbrowser.open(auth_request_url)\n"
   ]
  },
  {
   "cell_type": "code",
   "execution_count": null,
   "id": "b9ee5114",
   "metadata": {},
   "outputs": [],
   "source": [
    "# Cell 3: Create a basic HTTP server to receive the callback\n",
    "\n",
    "class OAuthHandler(http.server.SimpleHTTPRequestHandler):\n",
    "    def do_GET(self):\n",
    "        global received_code\n",
    "        parsed_path = urllib.parse.urlparse(self.path)\n",
    "        query_params = urllib.parse.parse_qs(parsed_path.query)\n",
    "        if parsed_path.path == \"/callback\" and \"code\" in query_params:\n",
    "            received_code = query_params[\"code\"][0]\n",
    "            self.send_response(200)\n",
    "            self.end_headers()\n",
    "            self.wfile.write(b\"<h1>You can close this tab now.</h1>\")\n",
    "        else:\n",
    "            self.send_response(404)\n",
    "            self.end_headers()\n",
    "\n",
    "PORT = 8000\n",
    "print(\"Waiting for GitHub callback...\")\n",
    "httpd = socketserver.TCPServer((\"\", PORT), OAuthHandler)\n",
    "httpd.handle_request()  # serve one request and stop\n"
   ]
  },
  {
   "cell_type": "code",
   "execution_count": null,
   "id": "baa6ba44",
   "metadata": {},
   "outputs": [],
   "source": [
    "# Cell 4: Exchange code for access token\n",
    "\n",
    "if not received_code:\n",
    "    raise Exception(\"No code received.\")\n",
    "\n",
    "response = requests.post(\n",
    "    TOKEN_URL,\n",
    "    headers={\"Accept\": \"application/json\"},\n",
    "    data={\n",
    "        \"client_id\": CLIENT_ID,\n",
    "        \"client_secret\": CLIENT_SECRET,\n",
    "        \"code\": received_code,\n",
    "        \"redirect_uri\": REDIRECT_URI,\n",
    "    },\n",
    ")\n",
    "\n",
    "token_data = response.json()\n",
    "access_token = token_data.get(\"access_token\")\n",
    "\n",
    "print(\"Access Token:\", access_token)\n"
   ]
  },
  {
   "cell_type": "code",
   "execution_count": null,
   "id": "ac0062db",
   "metadata": {},
   "outputs": [],
   "source": [
    "# Acá se usa el access_token para logearse al mcp server"
   ]
  },
  {
   "cell_type": "code",
   "execution_count": null,
   "id": "4d423145",
   "metadata": {},
   "outputs": [],
   "source": [
    "# Cell 5: Use token to fetch GitHub user profile\n",
    "\n",
    "if not access_token:\n",
    "    raise Exception(\"No access token.\")\n",
    "\n",
    "user_response = requests.get(\n",
    "    USER_API_URL,\n",
    "    headers={\"Authorization\": f\"token {access_token}\"}\n",
    ")\n",
    "\n",
    "user_data = user_response.json()\n",
    "print(\"GitHub User:\", user_data[\"login\"])\n",
    "user_data\n"
   ]
  }
 ],
 "metadata": {
  "kernelspec": {
   "display_name": "venv",
   "language": "python",
   "name": "python3"
  },
  "language_info": {
   "codemirror_mode": {
    "name": "ipython",
    "version": 3
   },
   "file_extension": ".py",
   "mimetype": "text/x-python",
   "name": "python",
   "nbconvert_exporter": "python",
   "pygments_lexer": "ipython3",
   "version": "3.9.6"
  }
 },
 "nbformat": 4,
 "nbformat_minor": 5
}
